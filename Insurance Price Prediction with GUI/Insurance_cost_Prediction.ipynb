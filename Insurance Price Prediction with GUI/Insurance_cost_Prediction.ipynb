{
 "cells": [
  {
   "cell_type": "markdown",
   "id": "ce24a3cf",
   "metadata": {},
   "source": [
    "# Import library"
   ]
  },
  {
   "cell_type": "code",
   "execution_count": 1,
   "id": "5cf1400c",
   "metadata": {},
   "outputs": [],
   "source": [
    "import pandas as pd\n",
    "import numpy as np\n",
    "import matplotlib.pyplot as plt\n",
    "import seaborn as sns"
   ]
  },
  {
   "cell_type": "markdown",
   "id": "cac11165",
   "metadata": {},
   "source": [
    "### Load DATASET"
   ]
  },
  {
   "cell_type": "code",
   "execution_count": 2,
   "id": "ca06f5bf",
   "metadata": {},
   "outputs": [],
   "source": [
    "df = pd.read_csv(r\"D:\\\\Artificial Intelligence\\\\insurance Price Prediction\\\\Insurance price predictin\\\\insurance.csv\")"
   ]
  },
  {
   "cell_type": "code",
   "execution_count": 3,
   "id": "bb536aa1",
   "metadata": {},
   "outputs": [
    {
     "data": {
      "text/html": [
       "<div>\n",
       "<style scoped>\n",
       "    .dataframe tbody tr th:only-of-type {\n",
       "        vertical-align: middle;\n",
       "    }\n",
       "\n",
       "    .dataframe tbody tr th {\n",
       "        vertical-align: top;\n",
       "    }\n",
       "\n",
       "    .dataframe thead th {\n",
       "        text-align: right;\n",
       "    }\n",
       "</style>\n",
       "<table border=\"1\" class=\"dataframe\">\n",
       "  <thead>\n",
       "    <tr style=\"text-align: right;\">\n",
       "      <th></th>\n",
       "      <th>age</th>\n",
       "      <th>sex</th>\n",
       "      <th>bmi</th>\n",
       "      <th>children</th>\n",
       "      <th>smoker</th>\n",
       "      <th>region</th>\n",
       "      <th>charges</th>\n",
       "    </tr>\n",
       "  </thead>\n",
       "  <tbody>\n",
       "    <tr>\n",
       "      <th>0</th>\n",
       "      <td>19</td>\n",
       "      <td>female</td>\n",
       "      <td>27.900</td>\n",
       "      <td>0</td>\n",
       "      <td>yes</td>\n",
       "      <td>southwest</td>\n",
       "      <td>16884.92400</td>\n",
       "    </tr>\n",
       "    <tr>\n",
       "      <th>1</th>\n",
       "      <td>18</td>\n",
       "      <td>male</td>\n",
       "      <td>33.770</td>\n",
       "      <td>1</td>\n",
       "      <td>no</td>\n",
       "      <td>southeast</td>\n",
       "      <td>1725.55230</td>\n",
       "    </tr>\n",
       "    <tr>\n",
       "      <th>2</th>\n",
       "      <td>28</td>\n",
       "      <td>male</td>\n",
       "      <td>33.000</td>\n",
       "      <td>3</td>\n",
       "      <td>no</td>\n",
       "      <td>southeast</td>\n",
       "      <td>4449.46200</td>\n",
       "    </tr>\n",
       "    <tr>\n",
       "      <th>3</th>\n",
       "      <td>33</td>\n",
       "      <td>male</td>\n",
       "      <td>22.705</td>\n",
       "      <td>0</td>\n",
       "      <td>no</td>\n",
       "      <td>northwest</td>\n",
       "      <td>21984.47061</td>\n",
       "    </tr>\n",
       "    <tr>\n",
       "      <th>4</th>\n",
       "      <td>32</td>\n",
       "      <td>male</td>\n",
       "      <td>28.880</td>\n",
       "      <td>0</td>\n",
       "      <td>no</td>\n",
       "      <td>northwest</td>\n",
       "      <td>3866.85520</td>\n",
       "    </tr>\n",
       "  </tbody>\n",
       "</table>\n",
       "</div>"
      ],
      "text/plain": [
       "   age     sex     bmi  children smoker     region      charges\n",
       "0   19  female  27.900         0    yes  southwest  16884.92400\n",
       "1   18    male  33.770         1     no  southeast   1725.55230\n",
       "2   28    male  33.000         3     no  southeast   4449.46200\n",
       "3   33    male  22.705         0     no  northwest  21984.47061\n",
       "4   32    male  28.880         0     no  northwest   3866.85520"
      ]
     },
     "execution_count": 3,
     "metadata": {},
     "output_type": "execute_result"
    }
   ],
   "source": [
    "# display starting 5 row\n",
    "df.head()"
   ]
  },
  {
   "cell_type": "code",
   "execution_count": 4,
   "id": "d27b2f1c",
   "metadata": {},
   "outputs": [
    {
     "data": {
      "text/html": [
       "<div>\n",
       "<style scoped>\n",
       "    .dataframe tbody tr th:only-of-type {\n",
       "        vertical-align: middle;\n",
       "    }\n",
       "\n",
       "    .dataframe tbody tr th {\n",
       "        vertical-align: top;\n",
       "    }\n",
       "\n",
       "    .dataframe thead th {\n",
       "        text-align: right;\n",
       "    }\n",
       "</style>\n",
       "<table border=\"1\" class=\"dataframe\">\n",
       "  <thead>\n",
       "    <tr style=\"text-align: right;\">\n",
       "      <th></th>\n",
       "      <th>age</th>\n",
       "      <th>sex</th>\n",
       "      <th>bmi</th>\n",
       "      <th>children</th>\n",
       "      <th>smoker</th>\n",
       "      <th>region</th>\n",
       "      <th>charges</th>\n",
       "    </tr>\n",
       "  </thead>\n",
       "  <tbody>\n",
       "    <tr>\n",
       "      <th>1333</th>\n",
       "      <td>50</td>\n",
       "      <td>male</td>\n",
       "      <td>30.97</td>\n",
       "      <td>3</td>\n",
       "      <td>no</td>\n",
       "      <td>northwest</td>\n",
       "      <td>10600.5483</td>\n",
       "    </tr>\n",
       "    <tr>\n",
       "      <th>1334</th>\n",
       "      <td>18</td>\n",
       "      <td>female</td>\n",
       "      <td>31.92</td>\n",
       "      <td>0</td>\n",
       "      <td>no</td>\n",
       "      <td>northeast</td>\n",
       "      <td>2205.9808</td>\n",
       "    </tr>\n",
       "    <tr>\n",
       "      <th>1335</th>\n",
       "      <td>18</td>\n",
       "      <td>female</td>\n",
       "      <td>36.85</td>\n",
       "      <td>0</td>\n",
       "      <td>no</td>\n",
       "      <td>southeast</td>\n",
       "      <td>1629.8335</td>\n",
       "    </tr>\n",
       "    <tr>\n",
       "      <th>1336</th>\n",
       "      <td>21</td>\n",
       "      <td>female</td>\n",
       "      <td>25.80</td>\n",
       "      <td>0</td>\n",
       "      <td>no</td>\n",
       "      <td>southwest</td>\n",
       "      <td>2007.9450</td>\n",
       "    </tr>\n",
       "    <tr>\n",
       "      <th>1337</th>\n",
       "      <td>61</td>\n",
       "      <td>female</td>\n",
       "      <td>29.07</td>\n",
       "      <td>0</td>\n",
       "      <td>yes</td>\n",
       "      <td>northwest</td>\n",
       "      <td>29141.3603</td>\n",
       "    </tr>\n",
       "  </tbody>\n",
       "</table>\n",
       "</div>"
      ],
      "text/plain": [
       "      age     sex    bmi  children smoker     region     charges\n",
       "1333   50    male  30.97         3     no  northwest  10600.5483\n",
       "1334   18  female  31.92         0     no  northeast   2205.9808\n",
       "1335   18  female  36.85         0     no  southeast   1629.8335\n",
       "1336   21  female  25.80         0     no  southwest   2007.9450\n",
       "1337   61  female  29.07         0    yes  northwest  29141.3603"
      ]
     },
     "execution_count": 4,
     "metadata": {},
     "output_type": "execute_result"
    }
   ],
   "source": [
    "# Dispaly end 5 row\n",
    "df.tail()"
   ]
  },
  {
   "cell_type": "code",
   "execution_count": 5,
   "id": "60cc5441",
   "metadata": {},
   "outputs": [
    {
     "data": {
      "text/plain": [
       "(1338, 7)"
      ]
     },
     "execution_count": 5,
     "metadata": {},
     "output_type": "execute_result"
    }
   ],
   "source": [
    "# Check shape of the df\n",
    "df.shape"
   ]
  },
  {
   "cell_type": "code",
   "execution_count": 6,
   "id": "67340a75",
   "metadata": {},
   "outputs": [
    {
     "name": "stdout",
     "output_type": "stream",
     "text": [
      "Shape of row in df : 1338\n",
      "Shape of column in df : 7\n"
     ]
    }
   ],
   "source": [
    "print(\"Shape of row in df :\",df.shape[0]) # 0 indicates row\n",
    "print(\"Shape of column in df :\",df.shape[1]) # 1 indicates column"
   ]
  },
  {
   "cell_type": "code",
   "execution_count": 7,
   "id": "b4fd5611",
   "metadata": {},
   "outputs": [
    {
     "name": "stdout",
     "output_type": "stream",
     "text": [
      "<class 'pandas.core.frame.DataFrame'>\n",
      "RangeIndex: 1338 entries, 0 to 1337\n",
      "Data columns (total 7 columns):\n",
      " #   Column    Non-Null Count  Dtype  \n",
      "---  ------    --------------  -----  \n",
      " 0   age       1338 non-null   int64  \n",
      " 1   sex       1338 non-null   object \n",
      " 2   bmi       1338 non-null   float64\n",
      " 3   children  1338 non-null   int64  \n",
      " 4   smoker    1338 non-null   object \n",
      " 5   region    1338 non-null   object \n",
      " 6   charges   1338 non-null   float64\n",
      "dtypes: float64(2), int64(2), object(3)\n",
      "memory usage: 73.3+ KB\n"
     ]
    }
   ],
   "source": [
    "# Display total information about the df\n",
    "df.info()"
   ]
  },
  {
   "cell_type": "code",
   "execution_count": 8,
   "id": "825f3119",
   "metadata": {},
   "outputs": [
    {
     "data": {
      "text/plain": [
       "age         0\n",
       "sex         0\n",
       "bmi         0\n",
       "children    0\n",
       "smoker      0\n",
       "region      0\n",
       "charges     0\n",
       "dtype: int64"
      ]
     },
     "execution_count": 8,
     "metadata": {},
     "output_type": "execute_result"
    }
   ],
   "source": [
    "# Check null values in the df\n",
    "df.isnull().sum()"
   ]
  },
  {
   "cell_type": "code",
   "execution_count": 9,
   "id": "14b6a6d9",
   "metadata": {},
   "outputs": [
    {
     "data": {
      "text/html": [
       "<div>\n",
       "<style scoped>\n",
       "    .dataframe tbody tr th:only-of-type {\n",
       "        vertical-align: middle;\n",
       "    }\n",
       "\n",
       "    .dataframe tbody tr th {\n",
       "        vertical-align: top;\n",
       "    }\n",
       "\n",
       "    .dataframe thead th {\n",
       "        text-align: right;\n",
       "    }\n",
       "</style>\n",
       "<table border=\"1\" class=\"dataframe\">\n",
       "  <thead>\n",
       "    <tr style=\"text-align: right;\">\n",
       "      <th></th>\n",
       "      <th>age</th>\n",
       "      <th>sex</th>\n",
       "      <th>bmi</th>\n",
       "      <th>children</th>\n",
       "      <th>smoker</th>\n",
       "      <th>region</th>\n",
       "      <th>charges</th>\n",
       "    </tr>\n",
       "  </thead>\n",
       "  <tbody>\n",
       "    <tr>\n",
       "      <th>count</th>\n",
       "      <td>1338.000000</td>\n",
       "      <td>1338</td>\n",
       "      <td>1338.000000</td>\n",
       "      <td>1338.000000</td>\n",
       "      <td>1338</td>\n",
       "      <td>1338</td>\n",
       "      <td>1338.000000</td>\n",
       "    </tr>\n",
       "    <tr>\n",
       "      <th>unique</th>\n",
       "      <td>NaN</td>\n",
       "      <td>2</td>\n",
       "      <td>NaN</td>\n",
       "      <td>NaN</td>\n",
       "      <td>2</td>\n",
       "      <td>4</td>\n",
       "      <td>NaN</td>\n",
       "    </tr>\n",
       "    <tr>\n",
       "      <th>top</th>\n",
       "      <td>NaN</td>\n",
       "      <td>male</td>\n",
       "      <td>NaN</td>\n",
       "      <td>NaN</td>\n",
       "      <td>no</td>\n",
       "      <td>southeast</td>\n",
       "      <td>NaN</td>\n",
       "    </tr>\n",
       "    <tr>\n",
       "      <th>freq</th>\n",
       "      <td>NaN</td>\n",
       "      <td>676</td>\n",
       "      <td>NaN</td>\n",
       "      <td>NaN</td>\n",
       "      <td>1064</td>\n",
       "      <td>364</td>\n",
       "      <td>NaN</td>\n",
       "    </tr>\n",
       "    <tr>\n",
       "      <th>mean</th>\n",
       "      <td>39.207025</td>\n",
       "      <td>NaN</td>\n",
       "      <td>30.663397</td>\n",
       "      <td>1.094918</td>\n",
       "      <td>NaN</td>\n",
       "      <td>NaN</td>\n",
       "      <td>13270.422265</td>\n",
       "    </tr>\n",
       "    <tr>\n",
       "      <th>std</th>\n",
       "      <td>14.049960</td>\n",
       "      <td>NaN</td>\n",
       "      <td>6.098187</td>\n",
       "      <td>1.205493</td>\n",
       "      <td>NaN</td>\n",
       "      <td>NaN</td>\n",
       "      <td>12110.011237</td>\n",
       "    </tr>\n",
       "    <tr>\n",
       "      <th>min</th>\n",
       "      <td>18.000000</td>\n",
       "      <td>NaN</td>\n",
       "      <td>15.960000</td>\n",
       "      <td>0.000000</td>\n",
       "      <td>NaN</td>\n",
       "      <td>NaN</td>\n",
       "      <td>1121.873900</td>\n",
       "    </tr>\n",
       "    <tr>\n",
       "      <th>25%</th>\n",
       "      <td>27.000000</td>\n",
       "      <td>NaN</td>\n",
       "      <td>26.296250</td>\n",
       "      <td>0.000000</td>\n",
       "      <td>NaN</td>\n",
       "      <td>NaN</td>\n",
       "      <td>4740.287150</td>\n",
       "    </tr>\n",
       "    <tr>\n",
       "      <th>50%</th>\n",
       "      <td>39.000000</td>\n",
       "      <td>NaN</td>\n",
       "      <td>30.400000</td>\n",
       "      <td>1.000000</td>\n",
       "      <td>NaN</td>\n",
       "      <td>NaN</td>\n",
       "      <td>9382.033000</td>\n",
       "    </tr>\n",
       "    <tr>\n",
       "      <th>75%</th>\n",
       "      <td>51.000000</td>\n",
       "      <td>NaN</td>\n",
       "      <td>34.693750</td>\n",
       "      <td>2.000000</td>\n",
       "      <td>NaN</td>\n",
       "      <td>NaN</td>\n",
       "      <td>16639.912515</td>\n",
       "    </tr>\n",
       "    <tr>\n",
       "      <th>max</th>\n",
       "      <td>64.000000</td>\n",
       "      <td>NaN</td>\n",
       "      <td>53.130000</td>\n",
       "      <td>5.000000</td>\n",
       "      <td>NaN</td>\n",
       "      <td>NaN</td>\n",
       "      <td>63770.428010</td>\n",
       "    </tr>\n",
       "  </tbody>\n",
       "</table>\n",
       "</div>"
      ],
      "text/plain": [
       "                age   sex          bmi     children smoker     region  \\\n",
       "count   1338.000000  1338  1338.000000  1338.000000   1338       1338   \n",
       "unique          NaN     2          NaN          NaN      2          4   \n",
       "top             NaN  male          NaN          NaN     no  southeast   \n",
       "freq            NaN   676          NaN          NaN   1064        364   \n",
       "mean      39.207025   NaN    30.663397     1.094918    NaN        NaN   \n",
       "std       14.049960   NaN     6.098187     1.205493    NaN        NaN   \n",
       "min       18.000000   NaN    15.960000     0.000000    NaN        NaN   \n",
       "25%       27.000000   NaN    26.296250     0.000000    NaN        NaN   \n",
       "50%       39.000000   NaN    30.400000     1.000000    NaN        NaN   \n",
       "75%       51.000000   NaN    34.693750     2.000000    NaN        NaN   \n",
       "max       64.000000   NaN    53.130000     5.000000    NaN        NaN   \n",
       "\n",
       "             charges  \n",
       "count    1338.000000  \n",
       "unique           NaN  \n",
       "top              NaN  \n",
       "freq             NaN  \n",
       "mean    13270.422265  \n",
       "std     12110.011237  \n",
       "min      1121.873900  \n",
       "25%      4740.287150  \n",
       "50%      9382.033000  \n",
       "75%     16639.912515  \n",
       "max     63770.428010  "
      ]
     },
     "execution_count": 9,
     "metadata": {},
     "output_type": "execute_result"
    }
   ],
   "source": [
    "# check overall statics\n",
    "df.describe(include ='all')"
   ]
  },
  {
   "cell_type": "markdown",
   "id": "3b5f003d",
   "metadata": {},
   "source": [
    "# convert string into numerical values('sex','smoker','region)\n",
    "### Method 1(by coding )\n",
    "\n",
    "#### 'Sex'"
   ]
  },
  {
   "cell_type": "code",
   "execution_count": 10,
   "id": "59c09a4c",
   "metadata": {},
   "outputs": [
    {
     "data": {
      "text/plain": [
       "male      676\n",
       "female    662\n",
       "Name: sex, dtype: int64"
      ]
     },
     "execution_count": 10,
     "metadata": {},
     "output_type": "execute_result"
    }
   ],
   "source": [
    "df['sex'].value_counts()"
   ]
  },
  {
   "cell_type": "code",
   "execution_count": 11,
   "id": "73619d2a",
   "metadata": {},
   "outputs": [
    {
     "data": {
      "text/plain": [
       "array(['female', 'male'], dtype=object)"
      ]
     },
     "execution_count": 11,
     "metadata": {},
     "output_type": "execute_result"
    }
   ],
   "source": [
    "df['sex'].unique()"
   ]
  },
  {
   "cell_type": "code",
   "execution_count": 12,
   "id": "c793f370",
   "metadata": {},
   "outputs": [],
   "source": [
    "df['sex'] = df['sex'].map({'female':0,'male':1})"
   ]
  },
  {
   "cell_type": "code",
   "execution_count": 13,
   "id": "28bde46a",
   "metadata": {},
   "outputs": [
    {
     "data": {
      "text/html": [
       "<div>\n",
       "<style scoped>\n",
       "    .dataframe tbody tr th:only-of-type {\n",
       "        vertical-align: middle;\n",
       "    }\n",
       "\n",
       "    .dataframe tbody tr th {\n",
       "        vertical-align: top;\n",
       "    }\n",
       "\n",
       "    .dataframe thead th {\n",
       "        text-align: right;\n",
       "    }\n",
       "</style>\n",
       "<table border=\"1\" class=\"dataframe\">\n",
       "  <thead>\n",
       "    <tr style=\"text-align: right;\">\n",
       "      <th></th>\n",
       "      <th>age</th>\n",
       "      <th>sex</th>\n",
       "      <th>bmi</th>\n",
       "      <th>children</th>\n",
       "      <th>smoker</th>\n",
       "      <th>region</th>\n",
       "      <th>charges</th>\n",
       "    </tr>\n",
       "  </thead>\n",
       "  <tbody>\n",
       "    <tr>\n",
       "      <th>0</th>\n",
       "      <td>19</td>\n",
       "      <td>0</td>\n",
       "      <td>27.900</td>\n",
       "      <td>0</td>\n",
       "      <td>yes</td>\n",
       "      <td>southwest</td>\n",
       "      <td>16884.92400</td>\n",
       "    </tr>\n",
       "    <tr>\n",
       "      <th>1</th>\n",
       "      <td>18</td>\n",
       "      <td>1</td>\n",
       "      <td>33.770</td>\n",
       "      <td>1</td>\n",
       "      <td>no</td>\n",
       "      <td>southeast</td>\n",
       "      <td>1725.55230</td>\n",
       "    </tr>\n",
       "    <tr>\n",
       "      <th>2</th>\n",
       "      <td>28</td>\n",
       "      <td>1</td>\n",
       "      <td>33.000</td>\n",
       "      <td>3</td>\n",
       "      <td>no</td>\n",
       "      <td>southeast</td>\n",
       "      <td>4449.46200</td>\n",
       "    </tr>\n",
       "    <tr>\n",
       "      <th>3</th>\n",
       "      <td>33</td>\n",
       "      <td>1</td>\n",
       "      <td>22.705</td>\n",
       "      <td>0</td>\n",
       "      <td>no</td>\n",
       "      <td>northwest</td>\n",
       "      <td>21984.47061</td>\n",
       "    </tr>\n",
       "    <tr>\n",
       "      <th>4</th>\n",
       "      <td>32</td>\n",
       "      <td>1</td>\n",
       "      <td>28.880</td>\n",
       "      <td>0</td>\n",
       "      <td>no</td>\n",
       "      <td>northwest</td>\n",
       "      <td>3866.85520</td>\n",
       "    </tr>\n",
       "  </tbody>\n",
       "</table>\n",
       "</div>"
      ],
      "text/plain": [
       "   age  sex     bmi  children smoker     region      charges\n",
       "0   19    0  27.900         0    yes  southwest  16884.92400\n",
       "1   18    1  33.770         1     no  southeast   1725.55230\n",
       "2   28    1  33.000         3     no  southeast   4449.46200\n",
       "3   33    1  22.705         0     no  northwest  21984.47061\n",
       "4   32    1  28.880         0     no  northwest   3866.85520"
      ]
     },
     "execution_count": 13,
     "metadata": {},
     "output_type": "execute_result"
    }
   ],
   "source": [
    "df.head()"
   ]
  },
  {
   "cell_type": "markdown",
   "id": "6654cab5",
   "metadata": {},
   "source": [
    "#### 'smoker'"
   ]
  },
  {
   "cell_type": "code",
   "execution_count": 14,
   "id": "b29bb48c",
   "metadata": {},
   "outputs": [
    {
     "name": "stdout",
     "output_type": "stream",
     "text": [
      "no     1064\n",
      "yes     274\n",
      "Name: smoker, dtype: int64\n",
      "****************************************\n",
      "['yes' 'no']\n",
      "****************************************\n"
     ]
    }
   ],
   "source": [
    "print(df['smoker'].value_counts())\n",
    "print(\"****************************************\")\n",
    "\n",
    "print(df['smoker'].unique())\n",
    "print(\"****************************************\")"
   ]
  },
  {
   "cell_type": "code",
   "execution_count": 15,
   "id": "7a31f6af",
   "metadata": {},
   "outputs": [],
   "source": [
    "df['smoker'] = df['smoker'].map({'no':0,'yes':1})"
   ]
  },
  {
   "cell_type": "code",
   "execution_count": 16,
   "id": "b6fdf5bc",
   "metadata": {},
   "outputs": [
    {
     "data": {
      "text/html": [
       "<div>\n",
       "<style scoped>\n",
       "    .dataframe tbody tr th:only-of-type {\n",
       "        vertical-align: middle;\n",
       "    }\n",
       "\n",
       "    .dataframe tbody tr th {\n",
       "        vertical-align: top;\n",
       "    }\n",
       "\n",
       "    .dataframe thead th {\n",
       "        text-align: right;\n",
       "    }\n",
       "</style>\n",
       "<table border=\"1\" class=\"dataframe\">\n",
       "  <thead>\n",
       "    <tr style=\"text-align: right;\">\n",
       "      <th></th>\n",
       "      <th>age</th>\n",
       "      <th>sex</th>\n",
       "      <th>bmi</th>\n",
       "      <th>children</th>\n",
       "      <th>smoker</th>\n",
       "      <th>region</th>\n",
       "      <th>charges</th>\n",
       "    </tr>\n",
       "  </thead>\n",
       "  <tbody>\n",
       "    <tr>\n",
       "      <th>0</th>\n",
       "      <td>19</td>\n",
       "      <td>0</td>\n",
       "      <td>27.900</td>\n",
       "      <td>0</td>\n",
       "      <td>1</td>\n",
       "      <td>southwest</td>\n",
       "      <td>16884.92400</td>\n",
       "    </tr>\n",
       "    <tr>\n",
       "      <th>1</th>\n",
       "      <td>18</td>\n",
       "      <td>1</td>\n",
       "      <td>33.770</td>\n",
       "      <td>1</td>\n",
       "      <td>0</td>\n",
       "      <td>southeast</td>\n",
       "      <td>1725.55230</td>\n",
       "    </tr>\n",
       "    <tr>\n",
       "      <th>2</th>\n",
       "      <td>28</td>\n",
       "      <td>1</td>\n",
       "      <td>33.000</td>\n",
       "      <td>3</td>\n",
       "      <td>0</td>\n",
       "      <td>southeast</td>\n",
       "      <td>4449.46200</td>\n",
       "    </tr>\n",
       "    <tr>\n",
       "      <th>3</th>\n",
       "      <td>33</td>\n",
       "      <td>1</td>\n",
       "      <td>22.705</td>\n",
       "      <td>0</td>\n",
       "      <td>0</td>\n",
       "      <td>northwest</td>\n",
       "      <td>21984.47061</td>\n",
       "    </tr>\n",
       "    <tr>\n",
       "      <th>4</th>\n",
       "      <td>32</td>\n",
       "      <td>1</td>\n",
       "      <td>28.880</td>\n",
       "      <td>0</td>\n",
       "      <td>0</td>\n",
       "      <td>northwest</td>\n",
       "      <td>3866.85520</td>\n",
       "    </tr>\n",
       "  </tbody>\n",
       "</table>\n",
       "</div>"
      ],
      "text/plain": [
       "   age  sex     bmi  children  smoker     region      charges\n",
       "0   19    0  27.900         0       1  southwest  16884.92400\n",
       "1   18    1  33.770         1       0  southeast   1725.55230\n",
       "2   28    1  33.000         3       0  southeast   4449.46200\n",
       "3   33    1  22.705         0       0  northwest  21984.47061\n",
       "4   32    1  28.880         0       0  northwest   3866.85520"
      ]
     },
     "execution_count": 16,
     "metadata": {},
     "output_type": "execute_result"
    }
   ],
   "source": [
    "df.head()"
   ]
  },
  {
   "cell_type": "markdown",
   "id": "5b5ef012",
   "metadata": {},
   "source": [
    "#### 'region'"
   ]
  },
  {
   "cell_type": "code",
   "execution_count": 17,
   "id": "48e9fa48",
   "metadata": {},
   "outputs": [
    {
     "data": {
      "text/plain": [
       "southeast    364\n",
       "southwest    325\n",
       "northwest    325\n",
       "northeast    324\n",
       "Name: region, dtype: int64"
      ]
     },
     "execution_count": 17,
     "metadata": {},
     "output_type": "execute_result"
    }
   ],
   "source": [
    "df['region'].value_counts()"
   ]
  },
  {
   "cell_type": "code",
   "execution_count": 18,
   "id": "649d5d4d",
   "metadata": {},
   "outputs": [
    {
     "data": {
      "text/plain": [
       "array(['southwest', 'southeast', 'northwest', 'northeast'], dtype=object)"
      ]
     },
     "execution_count": 18,
     "metadata": {},
     "output_type": "execute_result"
    }
   ],
   "source": [
    "df['region'].unique()"
   ]
  },
  {
   "cell_type": "code",
   "execution_count": 19,
   "id": "12cb46f4",
   "metadata": {},
   "outputs": [],
   "source": [
    "df['region'] = df['region'].map({'southwest':'1','southeast':2,'northwest':3,'northeast':4})"
   ]
  },
  {
   "cell_type": "code",
   "execution_count": 20,
   "id": "774d8896",
   "metadata": {},
   "outputs": [
    {
     "data": {
      "text/html": [
       "<div>\n",
       "<style scoped>\n",
       "    .dataframe tbody tr th:only-of-type {\n",
       "        vertical-align: middle;\n",
       "    }\n",
       "\n",
       "    .dataframe tbody tr th {\n",
       "        vertical-align: top;\n",
       "    }\n",
       "\n",
       "    .dataframe thead th {\n",
       "        text-align: right;\n",
       "    }\n",
       "</style>\n",
       "<table border=\"1\" class=\"dataframe\">\n",
       "  <thead>\n",
       "    <tr style=\"text-align: right;\">\n",
       "      <th></th>\n",
       "      <th>age</th>\n",
       "      <th>sex</th>\n",
       "      <th>bmi</th>\n",
       "      <th>children</th>\n",
       "      <th>smoker</th>\n",
       "      <th>region</th>\n",
       "      <th>charges</th>\n",
       "    </tr>\n",
       "  </thead>\n",
       "  <tbody>\n",
       "    <tr>\n",
       "      <th>0</th>\n",
       "      <td>19</td>\n",
       "      <td>0</td>\n",
       "      <td>27.900</td>\n",
       "      <td>0</td>\n",
       "      <td>1</td>\n",
       "      <td>1</td>\n",
       "      <td>16884.92400</td>\n",
       "    </tr>\n",
       "    <tr>\n",
       "      <th>1</th>\n",
       "      <td>18</td>\n",
       "      <td>1</td>\n",
       "      <td>33.770</td>\n",
       "      <td>1</td>\n",
       "      <td>0</td>\n",
       "      <td>2</td>\n",
       "      <td>1725.55230</td>\n",
       "    </tr>\n",
       "    <tr>\n",
       "      <th>2</th>\n",
       "      <td>28</td>\n",
       "      <td>1</td>\n",
       "      <td>33.000</td>\n",
       "      <td>3</td>\n",
       "      <td>0</td>\n",
       "      <td>2</td>\n",
       "      <td>4449.46200</td>\n",
       "    </tr>\n",
       "    <tr>\n",
       "      <th>3</th>\n",
       "      <td>33</td>\n",
       "      <td>1</td>\n",
       "      <td>22.705</td>\n",
       "      <td>0</td>\n",
       "      <td>0</td>\n",
       "      <td>3</td>\n",
       "      <td>21984.47061</td>\n",
       "    </tr>\n",
       "    <tr>\n",
       "      <th>4</th>\n",
       "      <td>32</td>\n",
       "      <td>1</td>\n",
       "      <td>28.880</td>\n",
       "      <td>0</td>\n",
       "      <td>0</td>\n",
       "      <td>3</td>\n",
       "      <td>3866.85520</td>\n",
       "    </tr>\n",
       "  </tbody>\n",
       "</table>\n",
       "</div>"
      ],
      "text/plain": [
       "   age  sex     bmi  children  smoker region      charges\n",
       "0   19    0  27.900         0       1      1  16884.92400\n",
       "1   18    1  33.770         1       0      2   1725.55230\n",
       "2   28    1  33.000         3       0      2   4449.46200\n",
       "3   33    1  22.705         0       0      3  21984.47061\n",
       "4   32    1  28.880         0       0      3   3866.85520"
      ]
     },
     "execution_count": 20,
     "metadata": {},
     "output_type": "execute_result"
    }
   ],
   "source": [
    "df.head()"
   ]
  },
  {
   "cell_type": "code",
   "execution_count": 21,
   "id": "0713e724",
   "metadata": {},
   "outputs": [
    {
     "data": {
      "text/plain": [
       "Index(['age', 'sex', 'bmi', 'children', 'smoker', 'region', 'charges'], dtype='object')"
      ]
     },
     "execution_count": 21,
     "metadata": {},
     "output_type": "execute_result"
    }
   ],
   "source": [
    "df.columns"
   ]
  },
  {
   "cell_type": "code",
   "execution_count": 22,
   "id": "6a27f278",
   "metadata": {},
   "outputs": [],
   "source": [
    "X = df.drop(['charges'],axis = 1)\n",
    "y = df['charges']"
   ]
  },
  {
   "cell_type": "code",
   "execution_count": 23,
   "id": "f6808658",
   "metadata": {},
   "outputs": [
    {
     "data": {
      "text/html": [
       "<div>\n",
       "<style scoped>\n",
       "    .dataframe tbody tr th:only-of-type {\n",
       "        vertical-align: middle;\n",
       "    }\n",
       "\n",
       "    .dataframe tbody tr th {\n",
       "        vertical-align: top;\n",
       "    }\n",
       "\n",
       "    .dataframe thead th {\n",
       "        text-align: right;\n",
       "    }\n",
       "</style>\n",
       "<table border=\"1\" class=\"dataframe\">\n",
       "  <thead>\n",
       "    <tr style=\"text-align: right;\">\n",
       "      <th></th>\n",
       "      <th>age</th>\n",
       "      <th>sex</th>\n",
       "      <th>bmi</th>\n",
       "      <th>children</th>\n",
       "      <th>smoker</th>\n",
       "      <th>region</th>\n",
       "    </tr>\n",
       "  </thead>\n",
       "  <tbody>\n",
       "    <tr>\n",
       "      <th>0</th>\n",
       "      <td>19</td>\n",
       "      <td>0</td>\n",
       "      <td>27.900</td>\n",
       "      <td>0</td>\n",
       "      <td>1</td>\n",
       "      <td>1</td>\n",
       "    </tr>\n",
       "    <tr>\n",
       "      <th>1</th>\n",
       "      <td>18</td>\n",
       "      <td>1</td>\n",
       "      <td>33.770</td>\n",
       "      <td>1</td>\n",
       "      <td>0</td>\n",
       "      <td>2</td>\n",
       "    </tr>\n",
       "    <tr>\n",
       "      <th>2</th>\n",
       "      <td>28</td>\n",
       "      <td>1</td>\n",
       "      <td>33.000</td>\n",
       "      <td>3</td>\n",
       "      <td>0</td>\n",
       "      <td>2</td>\n",
       "    </tr>\n",
       "    <tr>\n",
       "      <th>3</th>\n",
       "      <td>33</td>\n",
       "      <td>1</td>\n",
       "      <td>22.705</td>\n",
       "      <td>0</td>\n",
       "      <td>0</td>\n",
       "      <td>3</td>\n",
       "    </tr>\n",
       "    <tr>\n",
       "      <th>4</th>\n",
       "      <td>32</td>\n",
       "      <td>1</td>\n",
       "      <td>28.880</td>\n",
       "      <td>0</td>\n",
       "      <td>0</td>\n",
       "      <td>3</td>\n",
       "    </tr>\n",
       "  </tbody>\n",
       "</table>\n",
       "</div>"
      ],
      "text/plain": [
       "   age  sex     bmi  children  smoker region\n",
       "0   19    0  27.900         0       1      1\n",
       "1   18    1  33.770         1       0      2\n",
       "2   28    1  33.000         3       0      2\n",
       "3   33    1  22.705         0       0      3\n",
       "4   32    1  28.880         0       0      3"
      ]
     },
     "execution_count": 23,
     "metadata": {},
     "output_type": "execute_result"
    }
   ],
   "source": [
    "X.head()"
   ]
  },
  {
   "cell_type": "code",
   "execution_count": 24,
   "id": "70da7224",
   "metadata": {},
   "outputs": [
    {
     "data": {
      "text/plain": [
       "0    16884.92400\n",
       "1     1725.55230\n",
       "2     4449.46200\n",
       "3    21984.47061\n",
       "4     3866.85520\n",
       "Name: charges, dtype: float64"
      ]
     },
     "execution_count": 24,
     "metadata": {},
     "output_type": "execute_result"
    }
   ],
   "source": [
    "y.head()"
   ]
  },
  {
   "cell_type": "markdown",
   "id": "d241ac35",
   "metadata": {},
   "source": [
    "# Train test split df"
   ]
  },
  {
   "cell_type": "code",
   "execution_count": 25,
   "id": "581d8459",
   "metadata": {},
   "outputs": [],
   "source": [
    "from sklearn.model_selection import train_test_split\n",
    "X_train, X_test,y_train ,y_test = train_test_split(X , y ,test_size=0.2)"
   ]
  },
  {
   "cell_type": "markdown",
   "id": "8576bf94",
   "metadata": {},
   "source": [
    "# Import the models"
   ]
  },
  {
   "cell_type": "code",
   "execution_count": 26,
   "id": "8ba774a9",
   "metadata": {},
   "outputs": [],
   "source": [
    "from sklearn.linear_model import LinearRegression\n",
    "from sklearn.svm import SVR\n",
    "from sklearn.ensemble import RandomForestRegressor\n",
    "from sklearn.ensemble import GradientBoostingRegressor"
   ]
  },
  {
   "cell_type": "markdown",
   "id": "e322b652",
   "metadata": {},
   "source": [
    "# Model Training"
   ]
  },
  {
   "cell_type": "code",
   "execution_count": 27,
   "id": "6c9e4a7e",
   "metadata": {},
   "outputs": [
    {
     "name": "stdout",
     "output_type": "stream",
     "text": [
      "LinearRegression()\n",
      "SVR()\n",
      "RandomForestRegressor()\n",
      "GradientBoostingRegressor()\n"
     ]
    }
   ],
   "source": [
    "lr = LinearRegression()\n",
    "print(lr.fit(X_train,y_train))\n",
    "svm= SVR()\n",
    "print(svm.fit(X_train,y_train))\n",
    "rf = RandomForestRegressor()\n",
    "print(rf.fit(X_train,y_train))\n",
    "gr = GradientBoostingRegressor()\n",
    "print(gr.fit(X_train,y_train))\n"
   ]
  },
  {
   "cell_type": "markdown",
   "id": "2f5a0a8a",
   "metadata": {},
   "source": [
    "## Prediction o Test data"
   ]
  },
  {
   "cell_type": "code",
   "execution_count": 28,
   "id": "35535c84",
   "metadata": {},
   "outputs": [],
   "source": [
    "y_pred1 = lr.predict(X_test)\n",
    "y_pred2 = svm.predict(X_test)\n",
    "y_pred3 = rf.predict(X_test)\n",
    "y_pred4 = gr.predict(X_test)"
   ]
  },
  {
   "cell_type": "code",
   "execution_count": 29,
   "id": "230605f1",
   "metadata": {},
   "outputs": [],
   "source": [
    "df2 = pd.DataFrame({'Actual':y_test,'Lr':y_pred1,\n",
    "                   'svm':y_pred2,'rf':y_pred3,'gr':y_pred4})"
   ]
  },
  {
   "cell_type": "code",
   "execution_count": 30,
   "id": "d54b9d49",
   "metadata": {},
   "outputs": [
    {
     "data": {
      "text/html": [
       "<div>\n",
       "<style scoped>\n",
       "    .dataframe tbody tr th:only-of-type {\n",
       "        vertical-align: middle;\n",
       "    }\n",
       "\n",
       "    .dataframe tbody tr th {\n",
       "        vertical-align: top;\n",
       "    }\n",
       "\n",
       "    .dataframe thead th {\n",
       "        text-align: right;\n",
       "    }\n",
       "</style>\n",
       "<table border=\"1\" class=\"dataframe\">\n",
       "  <thead>\n",
       "    <tr style=\"text-align: right;\">\n",
       "      <th></th>\n",
       "      <th>Actual</th>\n",
       "      <th>Lr</th>\n",
       "      <th>svm</th>\n",
       "      <th>rf</th>\n",
       "      <th>gr</th>\n",
       "    </tr>\n",
       "  </thead>\n",
       "  <tbody>\n",
       "    <tr>\n",
       "      <th>513</th>\n",
       "      <td>1256.29900</td>\n",
       "      <td>1740.482040</td>\n",
       "      <td>9205.578053</td>\n",
       "      <td>2637.447381</td>\n",
       "      <td>1964.542065</td>\n",
       "    </tr>\n",
       "    <tr>\n",
       "      <th>925</th>\n",
       "      <td>25333.33284</td>\n",
       "      <td>12984.824480</td>\n",
       "      <td>9381.565210</td>\n",
       "      <td>10430.294279</td>\n",
       "      <td>11745.746137</td>\n",
       "    </tr>\n",
       "    <tr>\n",
       "      <th>1015</th>\n",
       "      <td>12124.99240</td>\n",
       "      <td>11199.402756</td>\n",
       "      <td>9427.095819</td>\n",
       "      <td>16541.926972</td>\n",
       "      <td>14931.130221</td>\n",
       "    </tr>\n",
       "    <tr>\n",
       "      <th>853</th>\n",
       "      <td>11729.67950</td>\n",
       "      <td>11087.507294</td>\n",
       "      <td>9394.579335</td>\n",
       "      <td>16247.800544</td>\n",
       "      <td>14859.536074</td>\n",
       "    </tr>\n",
       "    <tr>\n",
       "      <th>674</th>\n",
       "      <td>46200.98510</td>\n",
       "      <td>38240.020537</td>\n",
       "      <td>9345.545254</td>\n",
       "      <td>45925.268772</td>\n",
       "      <td>45179.484054</td>\n",
       "    </tr>\n",
       "    <tr>\n",
       "      <th>...</th>\n",
       "      <td>...</td>\n",
       "      <td>...</td>\n",
       "      <td>...</td>\n",
       "      <td>...</td>\n",
       "      <td>...</td>\n",
       "    </tr>\n",
       "    <tr>\n",
       "      <th>146</th>\n",
       "      <td>40720.55105</td>\n",
       "      <td>35207.405198</td>\n",
       "      <td>9354.445285</td>\n",
       "      <td>45417.503063</td>\n",
       "      <td>42158.200211</td>\n",
       "    </tr>\n",
       "    <tr>\n",
       "      <th>694</th>\n",
       "      <td>3577.99900</td>\n",
       "      <td>6037.798306</td>\n",
       "      <td>9237.057194</td>\n",
       "      <td>3986.387499</td>\n",
       "      <td>5235.008286</td>\n",
       "    </tr>\n",
       "    <tr>\n",
       "      <th>475</th>\n",
       "      <td>28868.66390</td>\n",
       "      <td>36982.297299</td>\n",
       "      <td>9438.017590</td>\n",
       "      <td>28869.320835</td>\n",
       "      <td>30259.103515</td>\n",
       "    </tr>\n",
       "    <tr>\n",
       "      <th>538</th>\n",
       "      <td>8233.09750</td>\n",
       "      <td>9069.222998</td>\n",
       "      <td>9352.904749</td>\n",
       "      <td>9218.807506</td>\n",
       "      <td>8930.129126</td>\n",
       "    </tr>\n",
       "    <tr>\n",
       "      <th>1162</th>\n",
       "      <td>18963.17192</td>\n",
       "      <td>8521.882269</td>\n",
       "      <td>9256.026078</td>\n",
       "      <td>3873.710229</td>\n",
       "      <td>4169.995286</td>\n",
       "    </tr>\n",
       "  </tbody>\n",
       "</table>\n",
       "<p>268 rows × 5 columns</p>\n",
       "</div>"
      ],
      "text/plain": [
       "           Actual            Lr          svm            rf            gr\n",
       "513    1256.29900   1740.482040  9205.578053   2637.447381   1964.542065\n",
       "925   25333.33284  12984.824480  9381.565210  10430.294279  11745.746137\n",
       "1015  12124.99240  11199.402756  9427.095819  16541.926972  14931.130221\n",
       "853   11729.67950  11087.507294  9394.579335  16247.800544  14859.536074\n",
       "674   46200.98510  38240.020537  9345.545254  45925.268772  45179.484054\n",
       "...           ...           ...          ...           ...           ...\n",
       "146   40720.55105  35207.405198  9354.445285  45417.503063  42158.200211\n",
       "694    3577.99900   6037.798306  9237.057194   3986.387499   5235.008286\n",
       "475   28868.66390  36982.297299  9438.017590  28869.320835  30259.103515\n",
       "538    8233.09750   9069.222998  9352.904749   9218.807506   8930.129126\n",
       "1162  18963.17192   8521.882269  9256.026078   3873.710229   4169.995286\n",
       "\n",
       "[268 rows x 5 columns]"
      ]
     },
     "execution_count": 30,
     "metadata": {},
     "output_type": "execute_result"
    }
   ],
   "source": [
    "df2"
   ]
  },
  {
   "cell_type": "markdown",
   "id": "b59d0e59",
   "metadata": {},
   "source": [
    "# compare performance "
   ]
  },
  {
   "cell_type": "code",
   "execution_count": 31,
   "id": "3241d230",
   "metadata": {},
   "outputs": [
    {
     "data": {
      "image/png": "[encoded data removed]",
      "text/plain": [
       "<Figure size 1152x432 with 4 Axes>"
      ]
     },
     "metadata": {
      "needs_background": "light"
     },
     "output_type": "display_data"
    }
   ],
   "source": [
    "plt.figure(figsize = (16,6))\n",
    "plt.subplot(221)\n",
    "plt.plot(df2['Actual'].iloc[0:11],label = 'Actual')\n",
    "plt.plot(df2['Lr'].iloc[0:11],label = 'Lr')\n",
    "plt.legend()\n",
    "\n",
    "plt.subplot(222)\n",
    "plt.plot(df2['Actual'].iloc[0:11],label = 'Actual')\n",
    "plt.plot(df2['svm'].iloc[0:11],label = 'svm')\n",
    "plt.legend()\n",
    "\n",
    "plt.subplot(223)\n",
    "plt.plot(df2['Actual'].iloc[0:11],label = 'Actual')\n",
    "plt.plot(df2['rf'].iloc[0:11],label = 'rf')\n",
    "plt.legend()\n",
    "\n",
    "plt.subplot(224)\n",
    "plt.plot(df2['Actual'].iloc[0:11],label = 'Actual')\n",
    "plt.plot(df2['gr'].iloc[0:11],label = 'gr')\n",
    "plt.legend()\n",
    "\n",
    "plt.show()"
   ]
  },
  {
   "cell_type": "markdown",
   "id": "39d47596",
   "metadata": {},
   "source": [
    "# evaulating the algorithm"
   ]
  },
  {
   "cell_type": "code",
   "execution_count": 32,
   "id": "49ecbeec",
   "metadata": {},
   "outputs": [],
   "source": [
    "from sklearn import metrics"
   ]
  },
  {
   "cell_type": "code",
   "execution_count": 33,
   "id": "34c8e4e9",
   "metadata": {},
   "outputs": [],
   "source": [
    "score1 = metrics.r2_score(y_test,y_pred1)\n",
    "score2 = metrics.r2_score(y_test,y_pred2)\n",
    "score3 = metrics.r2_score(y_test,y_pred3)\n",
    "score4 = metrics.r2_score(y_test,y_pred4)"
   ]
  },
  {
   "cell_type": "code",
   "execution_count": 34,
   "id": "09d1058b",
   "metadata": {},
   "outputs": [
    {
     "name": "stdout",
     "output_type": "stream",
     "text": [
      "lr score: 0.7788261299855505\n",
      "***************************\n",
      "svm score: -0.0824390450071315\n",
      "***************************\n",
      "rf score: 0.8464912399166248\n",
      "***************************\n",
      "gr score: 0.870804319346156\n",
      "***************************\n"
     ]
    }
   ],
   "source": [
    "# in r2 error  higher value is better\n",
    "print(\"lr score:\",score1)\n",
    "print(\"***************************\")\n",
    "print(\"svm score:\",score2)\n",
    "print(\"***************************\")\n",
    "print(\"rf score:\",score3)\n",
    "print(\"***************************\")\n",
    "print(\"gr score:\",score4)\n",
    "print(\"***************************\")"
   ]
  },
  {
   "cell_type": "code",
   "execution_count": 35,
   "id": "1df6c0f6",
   "metadata": {},
   "outputs": [
    {
     "name": "stdout",
     "output_type": "stream",
     "text": [
      "3843.2200444381515\n",
      "***************************************\n",
      "7858.290980356169\n",
      "***************************************\n",
      "2474.3616965451556\n",
      "***************************************\n",
      "2356.002024394187\n",
      "***************************************\n"
     ]
    }
   ],
   "source": [
    "# in mean_absolute_error the lower  value is better \n",
    "s1 = metrics.mean_absolute_error(y_test,y_pred1)\n",
    "print(s1)\n",
    "print(\"***************************************\")\n",
    "s2 = metrics.mean_absolute_error(y_test,y_pred2)\n",
    "print(s2)\n",
    "print(\"***************************************\")\n",
    "s3 = metrics.mean_absolute_error(y_test,y_pred3)\n",
    "print(s3)\n",
    "print(\"***************************************\")\n",
    "s4 = metrics.mean_absolute_error(y_test,y_pred4)\n",
    "print(s4)\n",
    "print(\"***************************************\")"
   ]
  },
  {
   "cell_type": "markdown",
   "id": "d0f518a1",
   "metadata": {},
   "source": [
    "# Predict chargees for new customer"
   ]
  },
  {
   "cell_type": "code",
   "execution_count": 36,
   "id": "2310a772",
   "metadata": {},
   "outputs": [
    {
     "data": {
      "text/html": [
       "<div>\n",
       "<style scoped>\n",
       "    .dataframe tbody tr th:only-of-type {\n",
       "        vertical-align: middle;\n",
       "    }\n",
       "\n",
       "    .dataframe tbody tr th {\n",
       "        vertical-align: top;\n",
       "    }\n",
       "\n",
       "    .dataframe thead th {\n",
       "        text-align: right;\n",
       "    }\n",
       "</style>\n",
       "<table border=\"1\" class=\"dataframe\">\n",
       "  <thead>\n",
       "    <tr style=\"text-align: right;\">\n",
       "      <th></th>\n",
       "      <th>age</th>\n",
       "      <th>sex</th>\n",
       "      <th>bmi</th>\n",
       "      <th>children</th>\n",
       "      <th>smoker</th>\n",
       "      <th>region</th>\n",
       "    </tr>\n",
       "  </thead>\n",
       "  <tbody>\n",
       "    <tr>\n",
       "      <th>0</th>\n",
       "      <td>40</td>\n",
       "      <td>1</td>\n",
       "      <td>40.3</td>\n",
       "      <td>4</td>\n",
       "      <td>1</td>\n",
       "      <td>2</td>\n",
       "    </tr>\n",
       "  </tbody>\n",
       "</table>\n",
       "</div>"
      ],
      "text/plain": [
       "   age  sex   bmi  children  smoker  region\n",
       "0   40    1  40.3         4       1       2"
      ]
     },
     "execution_count": 36,
     "metadata": {},
     "output_type": "execute_result"
    }
   ],
   "source": [
    "data = {'age':40,\n",
    "       'sex':1,\n",
    "        'bmi': 40.30,\n",
    "        'children':4,\n",
    "        'smoker':1,\n",
    "        'region':2}\n",
    "df = pd.DataFrame(data,index = [0])\n",
    "df"
   ]
  },
  {
   "cell_type": "code",
   "execution_count": 37,
   "id": "64a958d9",
   "metadata": {},
   "outputs": [
    {
     "name": "stdout",
     "output_type": "stream",
     "text": [
      "[43205.06728248]\n"
     ]
    }
   ],
   "source": [
    "new_pred = gr.predict(df)\n",
    "print(new_pred)"
   ]
  },
  {
   "cell_type": "markdown",
   "id": "9f094d61",
   "metadata": {},
   "source": [
    "# Save model using joblib library"
   ]
  },
  {
   "cell_type": "code",
   "execution_count": 38,
   "id": "44ee91ab",
   "metadata": {},
   "outputs": [
    {
     "name": "stdout",
     "output_type": "stream",
     "text": [
      "GradientBoostingRegressor()\n"
     ]
    }
   ],
   "source": [
    "# take best model and train entire data set\n",
    "gr = GradientBoostingRegressor()\n",
    "print(gr.fit(X,y))"
   ]
  },
  {
   "cell_type": "code",
   "execution_count": 39,
   "id": "c32df995",
   "metadata": {},
   "outputs": [],
   "source": [
    "import joblib"
   ]
  },
  {
   "cell_type": "code",
   "execution_count": 40,
   "id": "5a3c3ab0",
   "metadata": {},
   "outputs": [
    {
     "data": {
      "text/plain": [
       "['model_joblib_gr']"
      ]
     },
     "execution_count": 40,
     "metadata": {},
     "output_type": "execute_result"
    }
   ],
   "source": [
    "joblib.dump(gr,\"model_joblib_gr\")"
   ]
  },
  {
   "cell_type": "code",
   "execution_count": 41,
   "id": "ff0c8002",
   "metadata": {},
   "outputs": [],
   "source": [
    "model  = joblib.load('model_joblib_gr') #model successufly loaded"
   ]
  },
  {
   "cell_type": "code",
   "execution_count": 42,
   "id": "3cdd93f3",
   "metadata": {},
   "outputs": [
    {
     "data": {
      "text/plain": [
       "array([42148.361888])"
      ]
     },
     "execution_count": 42,
     "metadata": {},
     "output_type": "execute_result"
    }
   ],
   "source": [
    "model.predict(df)"
   ]
  },
  {
   "cell_type": "markdown",
   "id": "853c1f57",
   "metadata": {},
   "source": [
    "# Gui "
   ]
  },
  {
   "cell_type": "code",
   "execution_count": 43,
   "id": "2652a9af",
   "metadata": {},
   "outputs": [],
   "source": [
    "from tkinter import *"
   ]
  },
  {
   "cell_type": "code",
   "execution_count": 44,
   "id": "e4e69824",
   "metadata": {},
   "outputs": [],
   "source": [
    "import joblib"
   ]
  },
  {
   "cell_type": "code",
   "execution_count": 45,
   "id": "f7e68ee1",
   "metadata": {},
   "outputs": [],
   "source": [
    "def show_entry():\n",
    "    \n",
    "    p1 = float(e1.get())\n",
    "    p2 = float(e2.get())\n",
    "    p3 = float(e3.get())\n",
    "    p4 = float(e4.get())\n",
    "    p5 = float(e5.get())\n",
    "    p6 = float(e6.get())\n",
    "    \n",
    "    model = joblib.load('model_joblib_gr')\n",
    "    result = model.predict([[p1,p2,p3,p4,p5,p6]])\n",
    "    \n",
    "    Label(master, text = \"Insurance cost\").grid(row = 7)\n",
    "    Label(master,text = result).grid(row=8)\n",
    "\n",
    "master = Tk()\n",
    "master.title(\"Insuarance cost Prediction\")\n",
    "label = Label(master,text=\"Insurance cost Prediction\",bg = \"black\",fg = \"white\").grid(row=0,columnspan = 2)\n",
    "Label(master,text = \"Enter your age\").grid(row = 1)\n",
    "Label(master,text = \"male or female [1/0]\").grid(row = 2)\n",
    "Label(master,text = \"Enter your BMI value\").grid(row = 3)\n",
    "Label(master,text = \"Enter number of children\").grid(row = 4)\n",
    "Label(master,text = \"Smoker Yes/No [1/0]\").grid(row = 5)\n",
    "Label(master,text = \"Region [1-4]\").grid(row = 6)\n",
    "\n",
    "e1 = Entry(master)\n",
    "e2 = Entry(master)\n",
    "e3 = Entry(master)\n",
    "e4 = Entry(master)\n",
    "e5 = Entry(master)\n",
    "e6 = Entry(master)\n",
    "\n",
    "e1.grid(row=1,column=1)\n",
    "e2.grid(row=2,column=1)\n",
    "e3.grid(row=3,column=1)\n",
    "e4.grid(row=4,column=1)\n",
    "e5.grid(row=5,column=1)\n",
    "e6.grid(row=6,column=1)\n",
    "\n",
    "Button(master,text = \"Predict\",command = show_entry).grid()\n",
    "\n",
    "mainloop()"
   ]
  },
  {
   "cell_type": "code",
   "execution_count": null,
   "id": "8441b109",
   "metadata": {},
   "outputs": [],
   "source": []
  }
 ],
 "metadata": {
  "kernelspec": {
   "display_name": "Python 3 (ipykernel)",
   "language": "python",
   "name": "python3"
  },
  "language_info": {
   "codemirror_mode": {
    "name": "ipython",
    "version": 3
   },
   "file_extension": ".py",
   "mimetype": "text/x-python",
   "name": "python",
   "nbconvert_exporter": "python",
   "pygments_lexer": "ipython3",
   "version": "3.9.7"
  }
 },
 "nbformat": 4,
 "nbformat_minor": 5
}
